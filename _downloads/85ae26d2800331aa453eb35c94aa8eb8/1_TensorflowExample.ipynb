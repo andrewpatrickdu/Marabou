{
  "cells": [
    {
      "outputs": [],
      "execution_count": null,
      "cell_type": "code",
      "metadata": {
        "collapsed": false
      },
      "source": [
        "%matplotlib inline"
      ]
    },
    {
      "cell_type": "markdown",
      "metadata": {},
      "source": [
        "\nTensorflow Example\n====================\n\nTop contributors (to current version):\n  - Christopher Lazarus\n  - Kyle Julian\n  \nThis file is part of the Marabou project.\nCopyright (c) 2017-2019 by the authors listed in the file AUTHORS\nin the top-level source directory) and their institutional affiliations.\nAll rights reserved. See the file COPYING in the top-level source\ndirectory for licensing information.\n\n"
      ]
    },
    {
      "outputs": [],
      "execution_count": null,
      "cell_type": "code",
      "metadata": {
        "collapsed": false
      },
      "source": [
        "from maraboupy import Marabou\nimport numpy as np"
      ]
    },
    {
      "cell_type": "markdown",
      "metadata": {},
      "source": [
        "This network has inputs x0, x1, and was trained to create outputs that approximate\ny0 = abs(x0) + abs(x1), y1 = x0^2 + x1^2\n\n"
      ]
    },
    {
      "outputs": [],
      "execution_count": null,
      "cell_type": "code",
      "metadata": {
        "collapsed": false
      },
      "source": [
        "filename = \"../../resources/tf/frozen_graph/fc1.pb\"\nnetwork = Marabou.read_tf(filename)"
      ]
    },
    {
      "cell_type": "markdown",
      "metadata": {},
      "source": [
        "Or, you can specify the operation names of the input and output operations.\nThe default chooses the placeholder operations as input and the last operation as output\n\n"
      ]
    },
    {
      "outputs": [],
      "execution_count": null,
      "cell_type": "code",
      "metadata": {
        "collapsed": false
      },
      "source": [
        "inputNames = ['Placeholder']\noutputName = 'y_out'\nnetwork = Marabou.read_tf(filename = filename, inputNames = inputNames, outputName = outputName)"
      ]
    },
    {
      "cell_type": "markdown",
      "metadata": {},
      "source": [
        "Get the input and output variable numbers; [0] since first dimension is batch size\n\n"
      ]
    },
    {
      "outputs": [],
      "execution_count": null,
      "cell_type": "code",
      "metadata": {
        "collapsed": false
      },
      "source": [
        "inputVars = network.inputVars[0][0]\noutputVars = network.outputVars[0]"
      ]
    },
    {
      "cell_type": "markdown",
      "metadata": {},
      "source": [
        "Set input bounds on both input variables\n\n"
      ]
    },
    {
      "outputs": [],
      "execution_count": null,
      "cell_type": "code",
      "metadata": {
        "collapsed": false
      },
      "source": [
        "network.setLowerBound(inputVars[0],-10.0)\nnetwork.setUpperBound(inputVars[0], 10.0)\nnetwork.setLowerBound(inputVars[1],-10.0)\nnetwork.setUpperBound(inputVars[1], 10.0)"
      ]
    },
    {
      "cell_type": "markdown",
      "metadata": {},
      "source": [
        "Set output bounds on the second output variable\n\n"
      ]
    },
    {
      "outputs": [],
      "execution_count": null,
      "cell_type": "code",
      "metadata": {
        "collapsed": false
      },
      "source": [
        "network.setLowerBound(outputVars[1], 194.0)\nnetwork.setUpperBound(outputVars[1], 210.0)"
      ]
    },
    {
      "cell_type": "markdown",
      "metadata": {},
      "source": [
        "Call to C++ Marabou solver\n\n"
      ]
    },
    {
      "outputs": [],
      "execution_count": null,
      "cell_type": "code",
      "metadata": {
        "collapsed": false
      },
      "source": [
        "vals, stats = network.solve(\"marabou.log\")"
      ]
    }
  ],
  "nbformat": 4,
  "metadata": {
    "language_info": {
      "pygments_lexer": "ipython3",
      "name": "python",
      "codemirror_mode": {
        "name": "ipython",
        "version": 3
      },
      "nbconvert_exporter": "python",
      "mimetype": "text/x-python",
      "file_extension": ".py",
      "version": "3.5.2"
    },
    "kernelspec": {
      "display_name": "Python 3",
      "name": "python3",
      "language": "python"
    }
  },
  "nbformat_minor": 0
}